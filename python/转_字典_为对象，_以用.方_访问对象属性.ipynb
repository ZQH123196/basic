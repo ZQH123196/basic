{
 "cells": [
  {
   "cell_type": "code",
   "execution_count": 3,
   "metadata": {},
   "outputs": [],
   "source": [
    "database = [\n",
    "    {\n",
    "        \"name\": \"18D_Block\",\n",
    "        \"xcc\":{    \n",
    "            \"component\": {\n",
    "                \"core\":[],\n",
    "                \"platform\":[]\n",
    "            },\n",
    "        },\n",
    "        \"uefi\":{    \n",
    "            \"component\": {\n",
    "                \"core\":[],\n",
    "                \"platform\":[]\n",
    "            },\n",
    "        }\n",
    "    }\n",
    "]\n",
    "\n",
    "class Dict(dict):\n",
    "    __setattr__ = dict.__setitem__\n",
    "    __getattr__ = dict.__getitem__\n",
    " \n",
    "\n",
    "def dict_to_object(dictObj):\n",
    "    if not isinstance(dictObj, dict):\n",
    "        return dictObj\n",
    "    inst=Dict()\n",
    "    for k,v in dictObj.items():\n",
    "        inst[k] = dict_to_object(v)\n",
    "    return inst\n",
    "\n",
    "\n",
    "# 转换字典成为对象，可以用\".\"方式访问对象属性\n",
    "res = dict_to_object(database[0])"
   ]
  },
  {
   "cell_type": "code",
   "execution_count": 4,
   "metadata": {},
   "outputs": [
    {
     "data": {
      "text/plain": [
       "[{'name': '18D_Block',\n",
       "  'xcc': {'component': {'core': [], 'platform': []}},\n",
       "  'uefi': {'component': {'core': [], 'platform': []}}}]"
      ]
     },
     "execution_count": 4,
     "metadata": {},
     "output_type": "execute_result"
    }
   ],
   "source": [
    "database"
   ]
  },
  {
   "cell_type": "code",
   "execution_count": 5,
   "metadata": {},
   "outputs": [
    {
     "data": {
      "text/plain": [
       "{'name': '18D_Block',\n",
       " 'xcc': {'component': {'core': [], 'platform': []}},\n",
       " 'uefi': {'component': {'core': [], 'platform': []}}}"
      ]
     },
     "execution_count": 5,
     "metadata": {},
     "output_type": "execute_result"
    }
   ],
   "source": [
    "res"
   ]
  },
  {
   "cell_type": "code",
   "execution_count": 7,
   "metadata": {},
   "outputs": [
    {
     "data": {
      "text/plain": [
       "__main__.Dict"
      ]
     },
     "execution_count": 7,
     "metadata": {},
     "output_type": "execute_result"
    }
   ],
   "source": [
    "type(res)"
   ]
  },
  {
   "cell_type": "code",
   "execution_count": 53,
   "metadata": {},
   "outputs": [
    {
     "data": {
      "text/plain": [
       "['__class__',\n",
       " '__delattr__',\n",
       " '__dict__',\n",
       " '__dir__',\n",
       " '__doc__',\n",
       " '__eq__',\n",
       " '__format__',\n",
       " '__ge__',\n",
       " '__getattribute__',\n",
       " '__gt__',\n",
       " '__hash__',\n",
       " '__init__',\n",
       " '__init_subclass__',\n",
       " '__le__',\n",
       " '__lt__',\n",
       " '__module__',\n",
       " '__ne__',\n",
       " '__new__',\n",
       " '__reduce__',\n",
       " '__reduce_ex__',\n",
       " '__repr__',\n",
       " '__setattr__',\n",
       " '__sizeof__',\n",
       " '__str__',\n",
       " '__subclasshook__',\n",
       " '__weakref__',\n",
       " 'a']"
      ]
     },
     "execution_count": 53,
     "metadata": {},
     "output_type": "execute_result"
    }
   ],
   "source": [
    "class c():\n",
    "    def __init__(self):\n",
    "        self.a = 1\n",
    "    pass\n",
    "\n",
    "t = c()\n",
    "dir(t)"
   ]
  },
  {
   "cell_type": "code",
   "execution_count": 54,
   "metadata": {},
   "outputs": [
    {
     "data": {
      "text/plain": [
       "{'a': 1, 'b': 2, 'c': 3, 'd': 4, '6': '6'}"
      ]
     },
     "execution_count": 54,
     "metadata": {},
     "output_type": "execute_result"
    }
   ],
   "source": [
    "t.__dict__['b'] = 2\n",
    "\n",
    "t.__dict__.update({'c':3, 'd':4, '6':'6'})\n",
    "t.__dict__"
   ]
  },
  {
   "cell_type": "code",
   "execution_count": 56,
   "metadata": {},
   "outputs": [
    {
     "ename": "SyntaxError",
     "evalue": "invalid syntax (<ipython-input-56-9908e94360e6>, line 1)",
     "output_type": "error",
     "traceback": [
      "\u001b[1;36m  File \u001b[1;32m\"<ipython-input-56-9908e94360e6>\"\u001b[1;36m, line \u001b[1;32m1\u001b[0m\n\u001b[1;33m    t.6\u001b[0m\n\u001b[1;37m      ^\u001b[0m\n\u001b[1;31mSyntaxError\u001b[0m\u001b[1;31m:\u001b[0m invalid syntax\n"
     ]
    }
   ],
   "source": [
    "t."
   ]
  },
  {
   "cell_type": "code",
   "execution_count": 29,
   "metadata": {},
   "outputs": [
    {
     "name": "stdout",
     "output_type": "stream",
     "text": [
      "[<__main__.DictObj object at 0x000002493CA48390>, <__main__.DictObj object at 0x000002493CA485C0>]\n"
     ]
    }
   ],
   "source": [
    "class DictObj(object):\n",
    "    def __init__(self,map):\n",
    "        self.map = map\n",
    "\n",
    "    def __setattr__(self, name, value):\n",
    "        if name == 'map':\n",
    "             object.__setattr__(self, name, value)\n",
    "             return;\n",
    "        print('set attr called ',name,value)\n",
    "        self.map[name] = value\n",
    "\n",
    "    def __getattr__(self,name):\n",
    "        v = self.map[name]\n",
    "        if isinstance(v,(dict)):\n",
    "            return DictObj(v)\n",
    "        if isinstance(v, (list)):\n",
    "            r = []\n",
    "            for i in v:\n",
    "                r.append(DictObj(i))\n",
    "            return r                      \n",
    "        else:\n",
    "            return self.map[name];\n",
    "\n",
    "    def __getitem__(self,name):\n",
    "        return self.map[name]\n",
    "\n",
    "if __name__ == '__main__':\n",
    "    m = {'haha':{'a':55},'bb':[{'c':32,'d':45},{'c':22,'d':56}]}\n",
    "    book = DictObj(m);\n",
    "    print(book.bb)"
   ]
  },
  {
   "cell_type": "code",
   "execution_count": 35,
   "metadata": {},
   "outputs": [
    {
     "data": {
      "text/plain": [
       "<__main__.Struct at 0x2493cc9f278>"
      ]
     },
     "execution_count": 35,
     "metadata": {},
     "output_type": "execute_result"
    }
   ],
   "source": [
    "class Struct:\n",
    "    def __init__(self, **entries): \n",
    "        self.__dict__.update(entries)\n",
    "        \n",
    "args = {'a': 1, 'b': 2}\n",
    "s = Struct(**args)\n",
    "s"
   ]
  },
  {
   "cell_type": "code",
   "execution_count": 36,
   "metadata": {},
   "outputs": [
    {
     "data": {
      "text/plain": [
       "1"
      ]
     },
     "execution_count": 36,
     "metadata": {},
     "output_type": "execute_result"
    }
   ],
   "source": [
    "s.a"
   ]
  },
  {
   "cell_type": "code",
   "execution_count": 59,
   "metadata": {},
   "outputs": [],
   "source": [
    "func_def = \\\n",
    "\"\"\"\n",
    "def add(x, y):\n",
    "    return x + y\n",
    "print(add(3, 5))\n",
    "\"\"\"\n",
    "cm = compile(func_def, '<string>', 'exec')\n"
   ]
  },
  {
   "cell_type": "code",
   "execution_count": 60,
   "metadata": {},
   "outputs": [
    {
     "ename": "SyntaxError",
     "evalue": "Missing parentheses in call to 'exec' (<ipython-input-60-11f6f3163790>, line 1)",
     "output_type": "error",
     "traceback": [
      "\u001b[1;36m  File \u001b[1;32m\"<ipython-input-60-11f6f3163790>\"\u001b[1;36m, line \u001b[1;32m1\u001b[0m\n\u001b[1;33m    exec cm\u001b[0m\n\u001b[1;37m          ^\u001b[0m\n\u001b[1;31mSyntaxError\u001b[0m\u001b[1;31m:\u001b[0m Missing parentheses in call to 'exec'\n"
     ]
    }
   ],
   "source": [
    "exec cm"
   ]
  },
  {
   "cell_type": "code",
   "execution_count": null,
   "metadata": {},
   "outputs": [],
   "source": []
  }
 ],
 "metadata": {
  "kernelspec": {
   "display_name": "Python 3",
   "language": "python",
   "name": "python3"
  },
  "language_info": {
   "codemirror_mode": {
    "name": "ipython",
    "version": 3
   },
   "file_extension": ".py",
   "mimetype": "text/x-python",
   "name": "python",
   "nbconvert_exporter": "python",
   "pygments_lexer": "ipython3",
   "version": "3.7.3"
  }
 },
 "nbformat": 4,
 "nbformat_minor": 2
}
